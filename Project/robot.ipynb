"source": [
    "def display(map, rx, ry, particles):\n",
    "    lmap = cv2.cvtColor(map, cv2.COLOR_GRAY2BGR)\n",
    "    \n",
    "    # Display particles\n",
    "    if len(particles) > 0:\n",
    "        for i in range(NUM_PARTICLES):\n",
    "            cv2.circle(lmap, \n",
    "                       (int(particles[i,0]), int(particles[i,1])), \n",
    "                       1, \n",
    "                       (255,0,0), \n",
    "                       1)\n",
    "        \n",
    "    # Display robot\n",
    "    cv2.circle(lmap, (int(rx), int(ry)), 5, (0,255,0), 10)\n",
    "\n",
    "    # Display best guess\n",
    "    if len(particles) > 0:\n",
    "        px = np.mean(particles[:,0])\n",
    "        py = np.mean(particles[:,1])\n",
    "        cv2.circle(lmap, (int(px), int(py)), 5, (0,0,255), 5)\n",
    "\n",
    "    cv2.imshow('map', lmap)"
   ]
  },
  {
   "cell_type": "markdown",
   "metadata": {},
   "source": [
    "Main routine."
   ]
  },
  {
   "cell_type": "code",
   "execution_count": 45,
   "metadata": {},
   "outputs": [],
   "source": [
    "particles = init()\n",
    "while True:\n",
    "    display(map, rx, ry, particles)\n",
    "    fwd, turn, halt = get_input()\n",
    "    if halt:\n",
    "        break\n",
    "    rx, ry, rtheta = move_robot(rx, ry, rtheta, fwd, turn)\n",
    "    particles = move_particles(particles, fwd, turn)\n",
    "    if fwd != 0:\n",
    "        robot_sensor = sense(rx, ry, noisy=True)        \n",
    "        weights = compute_weights(particles, robot_sensor)\n",
    "        particles = resample(particles, weights)\n",
    "        particles = add_noise(particles)\n",
    "    \n",
    "cv2.destroyAllWindows()                        \n"
   ]
  }
 ],
 "metadata": {
  "kernelspec": {
   "display_name": "Python 3",
   "language": "python",
   "name": "python3"
  },
  "language_info": {
   "codemirror_mode": {
    "name": "ipython",
    "version": 3
   },
   "file_extension": ".py",
   "mimetype": "text/x-python",
   "name": "python",
   "nbconvert_exporter": "python",
   "pygments_lexer": "ipython3",
   "version": "3.6.9"
  }
 },
 "nbformat": 4,
 "nbformat_minor": 4
}
